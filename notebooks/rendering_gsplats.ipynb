{
 "cells": [
  {
   "cell_type": "code",
   "execution_count": 1,
   "metadata": {},
   "outputs": [],
   "source": [
    "import torch\n",
    "from utils import camera_intr\n",
    "import matplotlib.pyplot as plt\n",
    "import math\n",
    "\n",
    "from utils import camera_intr, ellipse_ndim"
   ]
  },
  {
   "cell_type": "markdown",
   "metadata": {},
   "source": [
    "### Data"
   ]
  },
  {
   "cell_type": "code",
   "execution_count": 2,
   "metadata": {},
   "outputs": [],
   "source": [
    "mu = torch.tensor([\n",
    "    [1., 1., 2.],\n",
    "    [0.4, 0.4, 3.],\n",
    "])\n",
    "cov = torch.tensor([\n",
    "    [[1., .9, 0.],\n",
    "     [.9, 1.,  0.],\n",
    "     [0., 0., 3.]],\n",
    "    [[1., -.9, 0.],\n",
    "     [-.9, 1., 0.],\n",
    "     [0., 0., 3.]],\n",
    "])\n",
    "col = torch.tensor([\n",
    "    [1, 0, 0],\n",
    "    [0, 1, 0]\n",
    "])"
   ]
  },
  {
   "cell_type": "markdown",
   "metadata": {},
   "source": [
    "### Projection"
   ]
  },
  {
   "cell_type": "code",
   "execution_count": 3,
   "metadata": {},
   "outputs": [],
   "source": [
    "def T_cw(R_cw, t_cw):\n",
    "    T_cw = torch.zeros((4, 4))\n",
    "    T_cw[3,3] = 1.\n",
    "    T_cw[:3,:3] = R_cw[:]\n",
    "    T_cw[:3,3] = t_cw\n",
    "\n",
    "    return T_cw\n",
    "\n",
    "def P(f_x, f_y, w, h, n, f):\n",
    "    P = torch.tensor([\n",
    "        [2.*f_x/w, 0., 0., 0.],\n",
    "        [0., 2.*f_y/h, 0., 0.],\n",
    "        [0., 0., (f+n)/(f-n), -2*f*n/(f-n)],\n",
    "        [0., 0., 1., 0.],\n",
    "    ])\n",
    "\n",
    "    return P\n",
    "\n",
    "def J(f_x, f_y, t_x, t_y, t_z):\n",
    "    N = len(t_x)\n",
    "    J = torch.zeros((N,2,3))\n",
    "    J[:,0,0] = f_x/t_z\n",
    "    J[:,1,1] = f_y/t_z\n",
    "    J[:,0,2] = -f_x*t_x/t_z**2\n",
    "    J[:,1,2] = -f_y*t_y/t_z**2\n",
    "\n",
    "    return J"
   ]
  },
  {
   "cell_type": "code",
   "execution_count": 4,
   "metadata": {},
   "outputs": [],
   "source": [
    "def project_gaussians(\n",
    "        mu,\n",
    "        Sigma,\n",
    "        R_cw,\n",
    "        t_cw,\n",
    "        f_x,\n",
    "        f_y,\n",
    "        c_x,\n",
    "        c_y,\n",
    "        w,\n",
    "        h,\n",
    "        n,\n",
    "        f,\n",
    "    ):\n",
    "    if not R_cw:\n",
    "        R_cw = torch.eye(3)\n",
    "    if not t_cw:\n",
    "        t_cw = torch.zeros(3)\n",
    "\n",
    "    N = mu.shape[0]\n",
    "\n",
    "    # Project Means\n",
    "    t = T_cw(R_cw, t_cw) @ torch.cat((mu.T, torch.ones(1, N))) # (4, 4) x (4, N) = (4, N)\n",
    "    t_ = P(f_x, f_y, w, h, n, f) @ t # (4, 4) x (4, N) = (4, N)\n",
    "    mu_ = torch.vstack((\n",
    "        (w*t_[0]/t_[3]+1.)/2+c_x,\n",
    "        (h*t_[1]/t_[3]+1.)/2+c_y,\n",
    "    )).T\n",
    "    z = t_[2]\n",
    "\n",
    "    # Project Cov\n",
    "    J_ = J(f_x, f_y, t[0], t[1], t[2])\n",
    "    Sigma_ = J_ @ R_cw @ Sigma @ R_cw.T @ J_.permute((0,2,1))\n",
    "\n",
    "    return mu_, z, Sigma_"
   ]
  },
  {
   "cell_type": "code",
   "execution_count": 5,
   "metadata": {},
   "outputs": [],
   "source": [
    "W = H = 100.\n",
    "fov_x = math.pi / 2.0\n",
    "focal = 0.5 * float(W) / math.tan(0.5 * fov_x)"
   ]
  },
  {
   "cell_type": "code",
   "execution_count": 6,
   "metadata": {},
   "outputs": [
    {
     "data": {
      "text/plain": [
       "50.00000000000001"
      ]
     },
     "execution_count": 6,
     "metadata": {},
     "output_type": "execute_result"
    }
   ],
   "source": [
    "focal"
   ]
  },
  {
   "cell_type": "code",
   "execution_count": 7,
   "metadata": {},
   "outputs": [],
   "source": [
    "(\n",
    "    mu_,\n",
    "    z,\n",
    "    cov_\n",
    ") = project_gaussians(\n",
    "    mu=mu,\n",
    "    Sigma=cov,\n",
    "    R_cw=None,\n",
    "    t_cw=None,\n",
    "    f_x=focal,\n",
    "    f_y=focal,\n",
    "    c_x=W/2,\n",
    "    c_y=H/2,\n",
    "    w=W,\n",
    "    h=H,\n",
    "    n=0.,\n",
    "    f=10.\n",
    ")"
   ]
  },
  {
   "cell_type": "code",
   "execution_count": 8,
   "metadata": {},
   "outputs": [
    {
     "data": {
      "text/plain": [
       "(tensor([[75.5000, 75.5000],\n",
       "         [57.1667, 57.1667]]),\n",
       " tensor([2., 3.]),\n",
       " tensor([[[1093.7500, 1031.2500],\n",
       "          [1031.2500, 1093.7500]],\n",
       " \n",
       "         [[ 292.5927, -235.1852],\n",
       "          [-235.1852,  292.5927]]]))"
      ]
     },
     "execution_count": 8,
     "metadata": {},
     "output_type": "execute_result"
    }
   ],
   "source": [
    "mu_, z, cov_"
   ]
  },
  {
   "cell_type": "code",
   "execution_count": 9,
   "metadata": {},
   "outputs": [
    {
     "name": "stdout",
     "output_type": "stream",
     "text": [
      "tensor([75.5000, 75.5000]) tensor([[1093.7500, 1031.2500],\n",
      "        [1031.2500, 1093.7500]])\n",
      "tensor([57.1667, 57.1667]) tensor([[ 292.5927, -235.1852],\n",
      "        [-235.1852,  292.5927]])\n"
     ]
    },
    {
     "data": {
      "image/png": "[encoded data removed]",
      "text/plain": [
       "<Figure size 640x480 with 1 Axes>"
      ]
     },
     "metadata": {},
     "output_type": "display_data"
    }
   ],
   "source": [
    "fig = plt.figure()\n",
    "ax = fig.add_subplot()\n",
    "ellipse_ndim(mu_, cov_, ax, edgecolor='red')\n",
    "ax.scatter(mu_[0,0], mu_[0,1])\n",
    "ax.scatter(mu_[1,0], mu_[1,1])\n",
    "ax.set_aspect('equal', adjustable='box')"
   ]
  },
  {
   "cell_type": "markdown",
   "metadata": {},
   "source": [
    "##################################"
   ]
  },
  {
   "cell_type": "markdown",
   "metadata": {},
   "source": [
    "### Rendering"
   ]
  },
  {
   "cell_type": "markdown",
   "metadata": {},
   "source": [
    "#### Evaluate Gaussians"
   ]
  },
  {
   "cell_type": "code",
   "execution_count": 10,
   "metadata": {},
   "outputs": [],
   "source": [
    "def inv_2d(A):\n",
    "    A_inv = torch.tensor([\n",
    "        [A[1,1], -A[0,1]],\n",
    "        [-A[1,0], A[0,0]],\n",
    "    ])\n",
    "    A_inv *= 1/(A[0,0]*A[1,1]-A[0,1]*A[1,0])\n",
    "\n",
    "    return A_inv"
   ]
  },
  {
   "cell_type": "code",
   "execution_count": 11,
   "metadata": {},
   "outputs": [],
   "source": [
    "def g(x, m, S):\n",
    "    ''' x: (h*w, 2) matrix\n",
    "        m: (2, 1) mean\n",
    "        S: (2, 2) cov matrix\n",
    "    '''\n",
    "    \n",
    "    x = x.T.view(-1, 1, 2)\n",
    "    m = m.view(1, 1, 2)\n",
    "\n",
    "    S_inv = inv_2d(S)\n",
    "    x_m = x - m\n",
    "\n",
    "    return torch.exp(-(1/2)*x_m @ S_inv @ x_m.permute(0,2,1))"
   ]
  },
  {
   "cell_type": "code",
   "execution_count": 12,
   "metadata": {},
   "outputs": [],
   "source": [
    "x, y = torch.meshgrid(torch.linspace(40,110,100),torch.linspace(40,110,100), indexing='xy')\n",
    "x = x.reshape(1,-1); y = y.reshape(1, -1)"
   ]
  },
  {
   "cell_type": "code",
   "execution_count": 13,
   "metadata": {},
   "outputs": [],
   "source": [
    "# Sort mu_ by depth (z)\n",
    "_, ind = torch.sort(z)\n",
    "mu_ = mu_[ind]"
   ]
  },
  {
   "cell_type": "code",
   "execution_count": 14,
   "metadata": {},
   "outputs": [
    {
     "data": {
      "text/plain": [
       "(tensor([1, 2, 3, 4]), tensor(24))"
      ]
     },
     "execution_count": 14,
     "metadata": {},
     "output_type": "execute_result"
    }
   ],
   "source": [
    "torch.arange(1,5), torch.prod(torch.arange(1,5))"
   ]
  },
  {
   "cell_type": "code",
   "execution_count": 15,
   "metadata": {},
   "outputs": [],
   "source": [
    "F = torch.zeros(100,100,3)\n",
    "pixels_xy = torch.cat((x.reshape(1,-1),y.reshape(1,-1)), dim=0)\n",
    "cum_alphas = torch.ones(1,100,100)\n",
    "for m, S, c in zip(mu_, cov_, col):\n",
    "    alpha = g(pixels_xy, m, S).view(1,100,100)\n",
    "    F += (alpha * c.view(3,1,1) * cum_alphas).permute((1,2,0)).flip(dims=(0,))\n",
    "    cum_alphas *= (1 - alpha)"
   ]
  },
  {
   "cell_type": "code",
   "execution_count": 16,
   "metadata": {},
   "outputs": [],
   "source": [
    "def render(x, mu_2d, cov_2d, col):\n",
    "    pass"
   ]
  },
  {
   "cell_type": "code",
   "execution_count": 17,
   "metadata": {},
   "outputs": [
    {
     "data": {
      "text/plain": [
       "<matplotlib.image.AxesImage at 0x777650ccae50>"
      ]
     },
     "execution_count": 17,
     "metadata": {},
     "output_type": "execute_result"
    },
    {
     "data": {
      "image/png": "[encoded data removed]",
      "text/plain": [
       "<Figure size 480x480 with 1 Axes>"
      ]
     },
     "metadata": {},
     "output_type": "display_data"
    }
   ],
   "source": [
    "plt.matshow(F)"
   ]
  }
 ],
 "metadata": {
  "kernelspec": {
   "display_name": "base",
   "language": "python",
   "name": "python3"
  },
  "language_info": {
   "codemirror_mode": {
    "name": "ipython",
    "version": 3
   },
   "file_extension": ".py",
   "mimetype": "text/x-python",
   "name": "python",
   "nbconvert_exporter": "python",
   "pygments_lexer": "ipython3",
   "version": "3.11.4"
  }
 },
 "nbformat": 4,
 "nbformat_minor": 2
}
