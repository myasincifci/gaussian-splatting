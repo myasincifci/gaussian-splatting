{
 "cells": [
  {
   "cell_type": "code",
   "execution_count": 1,
   "metadata": {},
   "outputs": [],
   "source": [
    "import torch\n",
    "import matplotlib.pyplot as plt\n",
    "import math\n",
    "\n",
    "from renderer import project_gaussians, rasterize_gaussians\n",
    "from utils import ellipse_ndim\n",
    "\n",
    "from matplotlib.patches import Polygon\n",
    "\n",
    "import numpy as np"
   ]
  },
  {
   "cell_type": "markdown",
   "metadata": {},
   "source": [
    "### Data"
   ]
  },
  {
   "cell_type": "code",
   "execution_count": 2,
   "metadata": {},
   "outputs": [],
   "source": [
    "mu = torch.tensor([\n",
    "    [0., 0., 10.],\n",
    "])\n",
    "\n",
    "scale = torch.tensor([\n",
    "    [1., 0.1, 1.],\n",
    "])\n",
    "\n",
    "quat = torch.randn((1, 4))\n",
    "\n",
    "col = torch.tensor([\n",
    "    [1, 0, 0],\n",
    "])\n",
    "\n",
    "opc = torch.tensor([\n",
    "    1,\n",
    "])\n"
   ]
  },
  {
   "cell_type": "markdown",
   "metadata": {},
   "source": [
    "### Projection"
   ]
  },
  {
   "cell_type": "code",
   "execution_count": 3,
   "metadata": {},
   "outputs": [],
   "source": [
    "# Output Image Width and Height\n",
    "W = 1920\n",
    "H = 1080 "
   ]
  },
  {
   "cell_type": "code",
   "execution_count": 4,
   "metadata": {},
   "outputs": [],
   "source": [
    "fov_x = math.pi / 2.0 # Angle of the camera frustum 90°\n",
    "focal = 0.5 * float(W) / math.tan(0.5 * fov_x) # Distance to Image Plane"
   ]
  },
  {
   "cell_type": "code",
   "execution_count": 5,
   "metadata": {},
   "outputs": [],
   "source": [
    "(\n",
    "    mu_,\n",
    "    cov_,\n",
    "    z\n",
    ") = project_gaussians(\n",
    "    means3d=mu,\n",
    "    scales=scale,\n",
    "    quats=quat,\n",
    "    viewmat=torch.eye(4),\n",
    "    fx=focal,\n",
    "    fy=focal,\n",
    "    cx=W/2,\n",
    "    cy=H/2,\n",
    "    img_height=H,\n",
    "    img_width=W\n",
    ")"
   ]
  },
  {
   "cell_type": "code",
   "execution_count": 6,
   "metadata": {},
   "outputs": [
    {
     "data": {
      "text/plain": [
       "(0.0, 1080.0)"
      ]
     },
     "execution_count": 6,
     "metadata": {},
     "output_type": "execute_result"
    },
    {
     "data": {
      "image/png": "[encoded data removed]",
      "text/plain": [
       "<Figure size 640x480 with 1 Axes>"
      ]
     },
     "metadata": {},
     "output_type": "display_data"
    }
   ],
   "source": [
    "fig = plt.figure()\n",
    "ax = fig.add_subplot()\n",
    "ellipse_ndim(mu_, cov_, ax, edgecolor='red')\n",
    "ax.scatter(mu_[0,0], mu_[0,1])\n",
    "\n",
    "ax.set_aspect('equal', adjustable='box')\n",
    "ax.set_xlim([0,W])\n",
    "ax.set_ylim([0,H])"
   ]
  },
  {
   "cell_type": "code",
   "execution_count": 7,
   "metadata": {},
   "outputs": [
    {
     "name": "stdout",
     "output_type": "stream",
     "text": [
      "tensor([[960., 540.]])\n"
     ]
    }
   ],
   "source": [
    "print(mu_)"
   ]
  },
  {
   "cell_type": "markdown",
   "metadata": {},
   "source": [
    "##################################"
   ]
  },
  {
   "cell_type": "markdown",
   "metadata": {},
   "source": [
    "### Rendering"
   ]
  },
  {
   "cell_type": "code",
   "execution_count": 8,
   "metadata": {},
   "outputs": [
    {
     "name": "stderr",
     "output_type": "stream",
     "text": [
      "100%|██████████| 1/1 [00:00<00:00,  4.38it/s]\n"
     ]
    }
   ],
   "source": [
    "out_img = rasterize_gaussians(\n",
    "    xys=mu_,\n",
    "    depths=z,\n",
    "    covs=cov_,\n",
    "    conics=None,\n",
    "    num_tiles_hit=None,\n",
    "    colors=col,\n",
    "    opacity=opc,\n",
    "    img_height=H,\n",
    "    img_width=W,\n",
    "    block_width=None,\n",
    "    background=None,\n",
    "    return_alpha=None\n",
    ")"
   ]
  },
  {
   "cell_type": "code",
   "execution_count": 9,
   "metadata": {},
   "outputs": [
    {
     "data": {
      "text/plain": [
       "(0.0, 1080.0)"
      ]
     },
     "execution_count": 9,
     "metadata": {},
     "output_type": "execute_result"
    },
    {
     "data": {
      "image/png": "[encoded data removed]",
      "text/plain": [
       "<Figure size 640x480 with 2 Axes>"
      ]
     },
     "metadata": {},
     "output_type": "display_data"
    }
   ],
   "source": [
    "fig, (ax1, ax2) = plt.subplots(1, 2)\n",
    "ax1.matshow(out_img)\n",
    "\n",
    "ellipse_ndim(mu_, cov_, ax2, edgecolor='red')\n",
    "ax2.scatter(mu_[0,0], mu_[0,1])\n",
    "# ax2.scatter(mu_[1,0], mu_[1,1])\n",
    "ax2.set_aspect('equal', adjustable='box')\n",
    "\n",
    "ax2.set_xlim([0,W])\n",
    "ax2.set_ylim([0,H])"
   ]
  },
  {
   "cell_type": "markdown",
   "metadata": {},
   "source": [
    "### Tiling (SAT)"
   ]
  },
  {
   "cell_type": "markdown",
   "metadata": {},
   "source": [
    "$\\Sigma_2 = \\begin{bmatrix} a & b \\\\ b & d \\end{bmatrix}$"
   ]
  },
  {
   "cell_type": "markdown",
   "metadata": {},
   "source": [
    "Eigenvalues: \\\n",
    "    $\\lambda_1 = \\frac{a + d + \\sqrt{(a-d)^2 + 4b^2}}{2}$ \\\n",
    "    $\\lambda_2 = \\frac{a + d - \\sqrt{(a-d)^2 + 4b^2}}{2}$"
   ]
  },
  {
   "cell_type": "code",
   "execution_count": 10,
   "metadata": {},
   "outputs": [],
   "source": [
    "def get_eigenvalues(cov):\n",
    "    a = cov[:,0,0]; b = cov[:,0,1]; d = cov[:,1,1]\n",
    "\n",
    "    A = torch.sqrt(a*a - 2*a*d + 4*b**2 + d*d)\n",
    "    B = a + d\n",
    "\n",
    "    return 0.5 * (A + B), 0.5 * (-A + B)"
   ]
  },
  {
   "cell_type": "markdown",
   "metadata": {},
   "source": [
    "$r_1 = 3\\sqrt{\\lambda_1}$ \\\n",
    "$r_2 = 3\\sqrt{\\lambda_2}$"
   ]
  },
  {
   "cell_type": "code",
   "execution_count": 11,
   "metadata": {},
   "outputs": [],
   "source": [
    "def get_radii(cov):\n",
    "    eigs = get_eigenvalues(cov)\n",
    "    l1, l2 = eigs[0], eigs[1]\n",
    "    return 1 * torch.sqrt(l1), 1 * torch.sqrt(l2) # TODO: change to 3 * sigma"
   ]
  },
  {
   "cell_type": "code",
   "execution_count": 12,
   "metadata": {},
   "outputs": [],
   "source": [
    "def get_orientation(cov):\n",
    "    a = cov[:,0,0]; b = cov[:,0,1]; c = cov[:,1,1]\n",
    "    eigs = get_eigenvalues(cov)\n",
    "    l1 = eigs[0]\n",
    "\n",
    "    if b == 0:\n",
    "        if a >= c:\n",
    "            return torch.tensor(0.)\n",
    "        else:\n",
    "            return torch.tensor(torch.pi/2)\n",
    "    else:\n",
    "        return torch.atan2(l1 - a, b)\n"
   ]
  },
  {
   "cell_type": "code",
   "execution_count": 13,
   "metadata": {},
   "outputs": [
    {
     "data": {
      "text/plain": [
       "tensor([0.7854])"
      ]
     },
     "execution_count": 13,
     "metadata": {},
     "output_type": "execute_result"
    }
   ],
   "source": [
    "torch.arctan(torch.tensor([1]))"
   ]
  },
  {
   "cell_type": "code",
   "execution_count": 14,
   "metadata": {},
   "outputs": [
    {
     "data": {
      "text/plain": [
       "0.7853981633974483"
      ]
     },
     "execution_count": 14,
     "metadata": {},
     "output_type": "execute_result"
    }
   ],
   "source": [
    "math.atan(1)"
   ]
  },
  {
   "cell_type": "code",
   "execution_count": 15,
   "metadata": {},
   "outputs": [
    {
     "data": {
      "text/plain": [
       "tensor([-2.5590])"
      ]
     },
     "execution_count": 15,
     "metadata": {},
     "output_type": "execute_result"
    }
   ],
   "source": [
    "get_eigenvalues(cov_)[0]/cov_[0,0,1]"
   ]
  },
  {
   "cell_type": "code",
   "execution_count": 16,
   "metadata": {},
   "outputs": [
    {
     "data": {
      "text/plain": [
       "tensor([2.1526])"
      ]
     },
     "execution_count": 16,
     "metadata": {},
     "output_type": "execute_result"
    }
   ],
   "source": [
    "get_orientation(cov_)"
   ]
  },
  {
   "cell_type": "code",
   "execution_count": 17,
   "metadata": {},
   "outputs": [],
   "source": [
    "def get_rotation(theta):\n",
    "    cos = torch.cos(theta)\n",
    "    sin = torch.sin(theta)\n",
    "\n",
    "    return torch.tensor([\n",
    "        [cos, -sin],\n",
    "        [sin,  cos]\n",
    "    ])"
   ]
  },
  {
   "cell_type": "code",
   "execution_count": 18,
   "metadata": {},
   "outputs": [],
   "source": [
    "def get_box(mu, cov):\n",
    "    N = len(mu)\n",
    "\n",
    "    r1, r2 = get_radii(cov)\n",
    "\n",
    "    B = torch.empty((N, 4, 2))\n",
    "\n",
    "    B[:,0,0] = mu[:,0] - r1; B[:,0,1] = mu[:,1] + r2\n",
    "    B[:,1,0] = mu[:,0] + r1; B[:,1,1] = mu[:,1] + r2\n",
    "    B[:,3,0] = mu[:,0] - r1; B[:,2,1] = mu[:,1] - r2\n",
    "    B[:,2,0] = mu[:,0] + r1; B[:,3,1] = mu[:,1] - r2\n",
    "    \n",
    "    return B"
   ]
  },
  {
   "cell_type": "code",
   "execution_count": 19,
   "metadata": {},
   "outputs": [],
   "source": [
    "# cov_ = torch.tensor([[\n",
    "#     [50_000., 0.],\n",
    "#     [0., 200_000.],\n",
    "# ]])"
   ]
  },
  {
   "cell_type": "code",
   "execution_count": 20,
   "metadata": {},
   "outputs": [
    {
     "data": {
      "text/plain": [
       "tensor([2.1526])"
      ]
     },
     "execution_count": 20,
     "metadata": {},
     "output_type": "execute_result"
    }
   ],
   "source": [
    "theta = get_orientation(cov_)\n",
    "# theta = torch.tensor(torch.pi/4)\n",
    "rot = get_rotation(theta)\n",
    "theta"
   ]
  },
  {
   "cell_type": "code",
   "execution_count": 21,
   "metadata": {},
   "outputs": [],
   "source": [
    "box = get_box(mu_, cov_)\n",
    "box_mean = box.mean(dim=1)\n",
    "rot_box = (rot @ (box - box_mean).permute((0,2,1))).permute((0,2,1)) + box_mean"
   ]
  },
  {
   "cell_type": "code",
   "execution_count": 22,
   "metadata": {},
   "outputs": [
    {
     "data": {
      "text/plain": [
       "<matplotlib.patches.Polygon at 0x7c8206751950>"
      ]
     },
     "execution_count": 22,
     "metadata": {},
     "output_type": "execute_result"
    },
    {
     "data": {
      "image/png": "[encoded data removed]",
      "text/plain": [
       "<Figure size 640x480 with 2 Axes>"
      ]
     },
     "metadata": {},
     "output_type": "display_data"
    }
   ],
   "source": [
    "fig, (ax1, ax2) = plt.subplots(1, 2)\n",
    "ax1.matshow(out_img)\n",
    "\n",
    "ellipse_ndim(mu_, cov_, ax2, edgecolor='red')\n",
    "ax2.scatter(mu_[0,0], mu_[0,1])\n",
    "# ax2.scatter(mu_[1,0], mu_[1,1])\n",
    "ax2.set_aspect('equal', adjustable='box')\n",
    "\n",
    "ax2.set_xlim([0,W])\n",
    "ax2.set_ylim([0,H])\n",
    "\n",
    "p = Polygon(rot_box[0], fc='none', ec='orangered')\n",
    "\n",
    "ax2.add_patch(p)"
   ]
  },
  {
   "cell_type": "code",
   "execution_count": 23,
   "metadata": {},
   "outputs": [
    {
     "data": {
      "text/plain": [
       "tensor([2.1526])"
      ]
     },
     "execution_count": 23,
     "metadata": {},
     "output_type": "execute_result"
    }
   ],
   "source": [
    "get_orientation(cov_)"
   ]
  },
  {
   "cell_type": "markdown",
   "metadata": {},
   "source": [
    "### Tiling"
   ]
  },
  {
   "cell_type": "markdown",
   "metadata": {},
   "source": []
  }
 ],
 "metadata": {
  "kernelspec": {
   "display_name": "base",
   "language": "python",
   "name": "python3"
  },
  "language_info": {
   "codemirror_mode": {
    "name": "ipython",
    "version": 3
   },
   "file_extension": ".py",
   "mimetype": "text/x-python",
   "name": "python",
   "nbconvert_exporter": "python",
   "pygments_lexer": "ipython3",
   "version": "3.11.4"
  }
 },
 "nbformat": 4,
 "nbformat_minor": 2
}
