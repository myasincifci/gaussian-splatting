{
 "cells": [
  {
   "cell_type": "code",
   "execution_count": 1,
   "metadata": {},
   "outputs": [],
   "source": [
    "import torch\n",
    "from utils import camera_intr\n",
    "import matplotlib.pyplot as plt\n",
    "import math\n",
    "\n",
    "from utils import camera_intr, ellipse_ndim"
   ]
  },
  {
   "cell_type": "markdown",
   "metadata": {},
   "source": [
    "### Data"
   ]
  },
  {
   "cell_type": "code",
   "execution_count": 2,
   "metadata": {},
   "outputs": [],
   "source": [
    "mu = torch.tensor([\n",
    "    [1., 1., 30.],\n",
    "    [0.4, 0.4, 31.],\n",
    "])\n",
    "\n",
    "cov = torch.tensor([\n",
    "    [[1., .9, 0.],\n",
    "     [.9, 1.,  0.],\n",
    "     [0., 0., 3.]],\n",
    "    [[1., -.9, 0.],\n",
    "     [-.9, 1., 0.],\n",
    "     [0., 0., 3.]],\n",
    "])\n",
    "\n",
    "scale = torch.tensor([\n",
    "    [1., 1., 1.],\n",
    "    [1., 1., 1.],\n",
    "])\n",
    "\n",
    "quat = torch.tensor([\n",
    "    [0., 0., 0., 0.],\n",
    "    [0., 0., 0., 0.],\n",
    "])\n",
    "\n",
    "col = torch.tensor([\n",
    "    [1, 0, 0],\n",
    "    [0, 1, 0],\n",
    "])"
   ]
  },
  {
   "cell_type": "markdown",
   "metadata": {},
   "source": [
    "### Projection"
   ]
  },
  {
   "cell_type": "code",
   "execution_count": 3,
   "metadata": {},
   "outputs": [],
   "source": [
    "def T_cw(R_cw, t_cw):\n",
    "    T_cw = torch.zeros((4, 4))\n",
    "    T_cw[3,3] = 1.\n",
    "    T_cw[:3,:3] = R_cw[:]\n",
    "    T_cw[:3,3] = t_cw\n",
    "\n",
    "    return T_cw\n",
    "\n",
    "def P(f_x, f_y, w, h, n, f):\n",
    "    P = torch.tensor([\n",
    "        [2.*f_x/w, 0., 0., 0.],\n",
    "        [0., 2.*f_y/h, 0., 0.],\n",
    "        [0., 0., (f+n)/(f-n), -2*f*n/(f-n)],\n",
    "        [0., 0., 1., 0.],\n",
    "    ])\n",
    "\n",
    "    return P\n",
    "\n",
    "def J(f_x, f_y, t_x, t_y, t_z):\n",
    "    N = len(t_x)\n",
    "    J = torch.zeros((N,2,3))\n",
    "    J[:,0,0] = f_x/t_z\n",
    "    J[:,1,1] = f_y/t_z\n",
    "    J[:,0,2] = -f_x*t_x/t_z**2\n",
    "    J[:,1,2] = -f_y*t_y/t_z**2\n",
    "\n",
    "    return J"
   ]
  },
  {
   "cell_type": "code",
   "execution_count": 4,
   "metadata": {},
   "outputs": [
    {
     "data": {
      "text/plain": [
       "tensor([[0., 0., 0., 0.],\n",
       "        [0., 0., 0., 0.]])"
      ]
     },
     "execution_count": 4,
     "metadata": {},
     "output_type": "execute_result"
    }
   ],
   "source": [
    "quat"
   ]
  },
  {
   "cell_type": "code",
   "execution_count": 5,
   "metadata": {},
   "outputs": [],
   "source": [
    "def quat_to_rot(quaternion):\n",
    "    N = quaternion.shape[0]\n",
    "    x, y, z, w = quaternion[:,0],quaternion[:,1],quaternion[:,2],quaternion[:,3],\n",
    "\n",
    "    R = torch.empty((N,3,3))\n",
    "    \n",
    "    R[:,0,0] = 1-2*(y**2+z**2)\n",
    "    R[:,0,1] = 2*(x*y-w*z)\n",
    "    R[:,0,2] = 2*(x*z+w*y)\n",
    "\n",
    "    R[:,1,0] = 2*(x*y+w*z)\n",
    "    R[:,1,1] = 1-2*(x**2-z**2)\n",
    "    R[:,1,2] = 2*(y*z-w*x)\n",
    "\n",
    "    R[:,2,0] = 2*(x*z+w*y)\n",
    "    R[:,2,1] = 2*(y*z+w*x)\n",
    "    R[:,2,2] = 1-2*(x**2+y**2)\n",
    "\n",
    "    return R"
   ]
  },
  {
   "cell_type": "code",
   "execution_count": 6,
   "metadata": {},
   "outputs": [],
   "source": [
    "def project_gaussians(\n",
    "        mu,\n",
    "        # Sigma,\n",
    "        scale,\n",
    "        quat,\n",
    "        R_cw,\n",
    "        t_cw,\n",
    "        f_x,\n",
    "        f_y,\n",
    "        c_x,\n",
    "        c_y,\n",
    "        w,\n",
    "        h,\n",
    "        n,\n",
    "        f,\n",
    "    ):\n",
    "    if not R_cw:\n",
    "        R_cw = torch.eye(3)\n",
    "    if not t_cw:\n",
    "        t_cw = torch.zeros(3)\n",
    "\n",
    "    N = mu.shape[0]\n",
    "\n",
    "    # Project Means\n",
    "    t = T_cw(R_cw, t_cw) @ torch.cat((mu.T, torch.ones(1, N))) # (4, 4) x (4, N) = (4, N)\n",
    "    t_ = P(f_x, f_y, w, h, n, f) @ t # (4, 4) x (4, N) = (4, N)\n",
    "    mu_ = torch.vstack((\n",
    "        (w*t_[0]/t_[3]+1.)/2+c_x,\n",
    "        (h*t_[1]/t_[3]+1.)/2+c_y,\n",
    "    )).T\n",
    "    z = t_[2]\n",
    "\n",
    "    # Scale + Rot. to Cov.\n",
    "    R = quat_to_rot(quat); S = torch.cat([torch.diag(s)[None] for s in scale])\n",
    "    RS =  R @ S\n",
    "    Sigma = RS @ RS.permute(0,2,1)\n",
    "    print(R, S, Sigma)\n",
    "\n",
    "    # Project Cov\n",
    "    J_ = J(f_x, f_y, t[0], t[1], t[2])\n",
    "    Sigma_ = J_ @ R_cw @ Sigma @ R_cw.T @ J_.permute((0,2,1))\n",
    "\n",
    "    return mu_, z, Sigma_"
   ]
  },
  {
   "cell_type": "code",
   "execution_count": 7,
   "metadata": {},
   "outputs": [],
   "source": [
    "W = H = 100.\n",
    "fov_x = math.pi / 2.0\n",
    "focal = 0.5 * float(W) / math.tan(0.5 * fov_x)"
   ]
  },
  {
   "cell_type": "code",
   "execution_count": 8,
   "metadata": {},
   "outputs": [
    {
     "name": "stdout",
     "output_type": "stream",
     "text": [
      "tensor([[[1., 0., 0.],\n",
      "         [0., 1., 0.],\n",
      "         [0., 0., 1.]],\n",
      "\n",
      "        [[1., 0., 0.],\n",
      "         [0., 1., 0.],\n",
      "         [0., 0., 1.]]]) tensor([[[1., 0., 0.],\n",
      "         [0., 1., 0.],\n",
      "         [0., 0., 1.]],\n",
      "\n",
      "        [[1., 0., 0.],\n",
      "         [0., 1., 0.],\n",
      "         [0., 0., 1.]]]) tensor([[[1., 0., 0.],\n",
      "         [0., 1., 0.],\n",
      "         [0., 0., 1.]],\n",
      "\n",
      "        [[1., 0., 0.],\n",
      "         [0., 1., 0.],\n",
      "         [0., 0., 1.]]])\n"
     ]
    }
   ],
   "source": [
    "(\n",
    "    mu_,\n",
    "    z,\n",
    "    cov_\n",
    ") = project_gaussians(\n",
    "    mu=mu,\n",
    "    scale=scale,\n",
    "    quat=quat,\n",
    "    R_cw=None,\n",
    "    t_cw=None,\n",
    "    f_x=focal,\n",
    "    f_y=focal,\n",
    "    c_x=W/2,\n",
    "    c_y=H/2,\n",
    "    w=W,\n",
    "    h=H,\n",
    "    n=0.,\n",
    "    f=10.\n",
    ")"
   ]
  },
  {
   "cell_type": "code",
   "execution_count": 9,
   "metadata": {},
   "outputs": [
    {
     "data": {
      "text/plain": [
       "(tensor([[52.1667, 52.1667],\n",
       "         [51.1452, 51.1452]]),\n",
       " tensor([30., 31.]),\n",
       " tensor([[[2.7809e+00, 3.0864e-03],\n",
       "          [3.0864e-03, 2.7809e+00]],\n",
       " \n",
       "         [[2.6019e+00, 4.3312e-04],\n",
       "          [4.3312e-04, 2.6019e+00]]]))"
      ]
     },
     "execution_count": 9,
     "metadata": {},
     "output_type": "execute_result"
    }
   ],
   "source": [
    "mu_, z, cov_"
   ]
  },
  {
   "cell_type": "code",
   "execution_count": 10,
   "metadata": {},
   "outputs": [
    {
     "data": {
      "text/plain": [
       "tensor([[52.1667, 52.1667],\n",
       "        [51.1452, 51.1452]])"
      ]
     },
     "execution_count": 10,
     "metadata": {},
     "output_type": "execute_result"
    }
   ],
   "source": [
    "mu_"
   ]
  },
  {
   "cell_type": "code",
   "execution_count": 11,
   "metadata": {},
   "outputs": [
    {
     "data": {
      "text/plain": [
       "tensor([[[2.7809e+00, 3.0864e-03],\n",
       "         [3.0864e-03, 2.7809e+00]],\n",
       "\n",
       "        [[2.6019e+00, 4.3312e-04],\n",
       "         [4.3312e-04, 2.6019e+00]]])"
      ]
     },
     "execution_count": 11,
     "metadata": {},
     "output_type": "execute_result"
    }
   ],
   "source": [
    "cov_"
   ]
  },
  {
   "cell_type": "code",
   "execution_count": 12,
   "metadata": {},
   "outputs": [
    {
     "data": {
      "image/png": "[encoded data removed]",
      "text/plain": [
       "<Figure size 640x480 with 1 Axes>"
      ]
     },
     "metadata": {},
     "output_type": "display_data"
    }
   ],
   "source": [
    "fig = plt.figure()\n",
    "ax = fig.add_subplot()\n",
    "ellipse_ndim(mu_, cov_, ax, edgecolor='red')\n",
    "ax.scatter(mu_[0,0], mu_[0,1])\n",
    "ax.scatter(mu_[1,0], mu_[1,1])\n",
    "\n",
    "ax.set_aspect('equal', adjustable='box')"
   ]
  },
  {
   "cell_type": "markdown",
   "metadata": {},
   "source": [
    "##################################"
   ]
  },
  {
   "cell_type": "markdown",
   "metadata": {},
   "source": [
    "### Rendering"
   ]
  },
  {
   "cell_type": "markdown",
   "metadata": {},
   "source": [
    "#### Evaluate Gaussians"
   ]
  },
  {
   "cell_type": "code",
   "execution_count": 13,
   "metadata": {},
   "outputs": [],
   "source": [
    "def inv_2d(A):\n",
    "    A_inv = torch.tensor([\n",
    "        [A[1,1], -A[0,1]],\n",
    "        [-A[1,0], A[0,0]],\n",
    "    ])\n",
    "    A_inv *= 1/(A[0,0]*A[1,1]-A[0,1]*A[1,0])\n",
    "\n",
    "    return A_inv"
   ]
  },
  {
   "cell_type": "code",
   "execution_count": 14,
   "metadata": {},
   "outputs": [],
   "source": [
    "def g(x, m, S):\n",
    "    ''' x: (h*w, 2) matrix\n",
    "        m: (2, 1) mean\n",
    "        S: (2, 2) cov matrix\n",
    "    '''\n",
    "    \n",
    "    x = x.T.view(-1, 1, 2)\n",
    "    m = m.view(1, 1, 2)\n",
    "\n",
    "    S_inv = inv_2d(S)\n",
    "    x_m = x - m\n",
    "\n",
    "    return torch.exp(-(1/2)*x_m @ S_inv @ x_m.permute(0,2,1))"
   ]
  },
  {
   "cell_type": "code",
   "execution_count": 15,
   "metadata": {},
   "outputs": [
    {
     "data": {
      "text/plain": [
       "(tensor([[47.0000, 47.0100, 47.0200,  ..., 56.9800, 56.9900, 57.0000]]),\n",
       " tensor([[47., 47., 47.,  ..., 57., 57., 57.]]))"
      ]
     },
     "execution_count": 15,
     "metadata": {},
     "output_type": "execute_result"
    }
   ],
   "source": [
    "x, y = torch.meshgrid(torch.linspace(47,57,1000),torch.linspace(47,57,1000), indexing='xy')\n",
    "x = x.reshape(1,-1); y = y.reshape(1, -1)\n",
    "x, y"
   ]
  },
  {
   "cell_type": "code",
   "execution_count": 16,
   "metadata": {},
   "outputs": [],
   "source": [
    "# Sort mu_ by depth (z)\n",
    "_, ind = torch.sort(z)\n",
    "mu_, cov_, col = mu_[ind], cov_[ind], col[ind]"
   ]
  },
  {
   "cell_type": "code",
   "execution_count": 17,
   "metadata": {},
   "outputs": [
    {
     "data": {
      "text/plain": [
       "(tensor([1, 2, 3, 4]), tensor(24))"
      ]
     },
     "execution_count": 17,
     "metadata": {},
     "output_type": "execute_result"
    }
   ],
   "source": [
    "torch.arange(1,5), torch.prod(torch.arange(1,5))"
   ]
  },
  {
   "cell_type": "code",
   "execution_count": 18,
   "metadata": {},
   "outputs": [],
   "source": [
    "F = torch.zeros(1000,1000,3)\n",
    "pixels_xy = torch.cat((x.reshape(1,-1),y.reshape(1,-1)), dim=0)\n",
    "cum_alphas = torch.ones(1,1000,1000)\n",
    "for m, S, c in zip(mu_, cov_, col):\n",
    "    alpha = g(pixels_xy, m, S).view(1,1000,1000)\n",
    "    F += (alpha * c.view(3,1,1) * cum_alphas).permute((1,2,0)).flip(dims=(0,))\n",
    "    cum_alphas *= (1 - alpha)"
   ]
  },
  {
   "cell_type": "code",
   "execution_count": 19,
   "metadata": {},
   "outputs": [],
   "source": [
    "def render(x, mu_2d, cov_2d, col):\n",
    "    pass"
   ]
  },
  {
   "cell_type": "code",
   "execution_count": 20,
   "metadata": {},
   "outputs": [
    {
     "data": {
      "text/plain": [
       "(47.0, 57.0)"
      ]
     },
     "execution_count": 20,
     "metadata": {},
     "output_type": "execute_result"
    },
    {
     "data": {
      "image/png": "[encoded data removed]",
      "text/plain": [
       "<Figure size 640x480 with 2 Axes>"
      ]
     },
     "metadata": {},
     "output_type": "display_data"
    }
   ],
   "source": [
    "fig, (ax1, ax2) = plt.subplots(1, 2)\n",
    "ax1.matshow(F)\n",
    "\n",
    "ellipse_ndim(mu_, cov_, ax2, edgecolor='red')\n",
    "ax2.scatter(mu_[0,0], mu_[0,1])\n",
    "ax2.scatter(mu_[1,0], mu_[1,1])\n",
    "ax2.set_aspect('equal', adjustable='box')\n",
    "\n",
    "ax2.set_xlim([47,57])\n",
    "ax2.set_ylim([47,57])"
   ]
  },
  {
   "cell_type": "markdown",
   "metadata": {},
   "source": [
    "### Tiling (SAT)"
   ]
  },
  {
   "cell_type": "markdown",
   "metadata": {},
   "source": []
  }
 ],
 "metadata": {
  "kernelspec": {
   "display_name": "base",
   "language": "python",
   "name": "python3"
  },
  "language_info": {
   "codemirror_mode": {
    "name": "ipython",
    "version": 3
   },
   "file_extension": ".py",
   "mimetype": "text/x-python",
   "name": "python",
   "nbconvert_exporter": "python",
   "pygments_lexer": "ipython3",
   "version": "3.11.4"
  }
 },
 "nbformat": 4,
 "nbformat_minor": 2
}
